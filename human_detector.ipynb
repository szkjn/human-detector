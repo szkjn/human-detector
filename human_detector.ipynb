{
 "cells": [
  {
   "cell_type": "code",
   "execution_count": 1,
   "id": "75f4e1a3",
   "metadata": {},
   "outputs": [],
   "source": [
    "import cv2\n",
    "import numpy as np"
   ]
  },
  {
   "cell_type": "code",
   "execution_count": 2,
   "id": "d2ca23f2",
   "metadata": {},
   "outputs": [],
   "source": [
    "# loading MobileNet downloaded from https://github.com/chuanqi305/MobileNet-SSD\n",
    "\n",
    "configFile = 'deploy.prototxt'\n",
    "modelFile = 'mobilenet_iter_73000.caffemodel'\n",
    "net = cv2.dnn.readNetFromCaffe(configFile, modelFile)"
   ]
  },
  {
   "cell_type": "code",
   "execution_count": 3,
   "id": "7c66fcd1",
   "metadata": {},
   "outputs": [],
   "source": [
    "def detectHumans(frame, network):\n",
    "\n",
    "    results = []\n",
    "    h, w = frame.shape[:2]\n",
    "\n",
    "    # Pre-processing: mean substraction and scaling to match model's training set.\n",
    "    blob = cv2.dnn.blobFromImage(frame, 0.007843, (300, 300), [127.5, 127.5, 127.5])\n",
    "    network.setInput(blob)\n",
    "\n",
    "    # Run an inference of the model, passing blob through the network.\n",
    "    network_output = network.forward()\n",
    "\n",
    "    # Loop over all results.\n",
    "    for i in np.arange(0, network_output.shape[2]):\n",
    "        class_id = network_output[0, 0, i, 1]\n",
    "        confidence = network_output[0, 0, i, 2]\n",
    "\n",
    "        # Filter for only detected people (classID 15) and high confidence.\n",
    "        # https://github.com/chuanqi305/MobileNet-SSD/blob/master/demo.py#L21\n",
    "        if confidence > 0.7 and class_id == 15:\n",
    "            # Remap 0-1 position outputs to size of image for bounding box.\n",
    "            box = network_output[0, 0, i, 3:7] * np.array([w, h, w, h])\n",
    "            box = box.astype('int')\n",
    "\n",
    "            # Calculate the person center from the bounding box.\n",
    "            center_x = int((box[0] + box[2]) / 2)\n",
    "            center_y = int((box[1] + box[3]) / 2)\n",
    "\n",
    "            results.append((confidence, box, (center_x, center_y)))\n",
    "    return results"
   ]
  },
  {
   "cell_type": "code",
   "execution_count": 6,
   "id": "262e1c60",
   "metadata": {},
   "outputs": [],
   "source": [
    "def exportDetection(input_path):\n",
    "    \n",
    "    cap = cv2.VideoCapture(input_path)\n",
    "\n",
    "    fontface = cv2.FONT_HERSHEY_DUPLEX\n",
    "    white = (255, 255, 255)\n",
    "    output_path = 'output_' + str(input_path)\n",
    "    \n",
    "    writer = None\n",
    "\n",
    "    prev_frame_time = 0\n",
    "    new_frame_time = 0\n",
    "    counter = 0\n",
    "\n",
    "    print(\"Processing frames please wait ...\")\n",
    "\n",
    "    while cap.isOpened():\n",
    "        ret, frame = cap.read()\n",
    "        \n",
    "        if not ret:\n",
    "            break\n",
    "\n",
    "        results = detectHumans(frame, network=net)\n",
    "\n",
    "        t, _ = net.getPerfProfile()\n",
    "        label = 'Inference time: %.2f ms' % (t * 1000.0 / cv2.getTickFrequency())\n",
    "\n",
    "        for index, (prob, bounding_box, centroid) in enumerate(results):\n",
    "            start_x, start_y, end_x, end_y = bounding_box\n",
    "            cv2.rectangle(frame, (start_x, start_y), (end_x, end_y), white, 2)\n",
    "            cv2.putText(frame, label, (2, frame.shape[0] - 4), fontface, 0.4, white)\n",
    "\n",
    "        cv2.imshow('frame', frame)\n",
    "        if cv2.waitKey(1) & 0xFF == ord('q'):\n",
    "            break\n",
    "\n",
    "        if writer is None:\n",
    "            fourcc = cv2.VideoWriter_fourcc(*'MP4V')\n",
    "            writer = cv2.VideoWriter(\n",
    "                output_path, fourcc, 25, (frame.shape[1], frame.shape[0]), True)\n",
    "\n",
    "        if writer:\n",
    "            writer.write(frame)\n",
    "\n",
    "    cap.release()\n",
    "    writer.release()\n",
    "    print(f'Video saved to {output_path}')\n",
    "    cv2.destroyAllWindows()"
   ]
  },
  {
   "cell_type": "code",
   "execution_count": 7,
   "id": "514eef45",
   "metadata": {},
   "outputs": [
    {
     "name": "stdout",
     "output_type": "stream",
     "text": [
      "Processing frames please wait ...\n",
      "Video saved to output_pharcyde_sm.mp4\n"
     ]
    }
   ],
   "source": [
    "input_path = 'pharcyde_sm.mp4'\n",
    "exportDetection(input_path)"
   ]
  }
 ],
 "metadata": {
  "kernelspec": {
   "display_name": "Python 3 (ipykernel)",
   "language": "python",
   "name": "python3"
  },
  "language_info": {
   "codemirror_mode": {
    "name": "ipython",
    "version": 3
   },
   "file_extension": ".py",
   "mimetype": "text/x-python",
   "name": "python",
   "nbconvert_exporter": "python",
   "pygments_lexer": "ipython3",
   "version": "3.9.6"
  }
 },
 "nbformat": 4,
 "nbformat_minor": 5
}
